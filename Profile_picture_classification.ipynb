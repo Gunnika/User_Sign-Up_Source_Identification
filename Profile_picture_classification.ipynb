{
 "cells": [
  {
   "cell_type": "code",
   "execution_count": 1,
   "metadata": {},
   "outputs": [],
   "source": [
    "import numpy as np\n",
    "import matplotlib.pyplot as plt\n",
    "import cv2\n",
    "import random"
   ]
  },
  {
   "cell_type": "code",
   "execution_count": 2,
   "metadata": {},
   "outputs": [],
   "source": [
    "from sqlalchemy import create_engine\n",
    "import pandas as pd"
   ]
  },
  {
   "cell_type": "code",
   "execution_count": 3,
   "metadata": {},
   "outputs": [],
   "source": [
    "engine_sqlite = create_engine('sqlite:///app/posts.db', echo=False)"
   ]
  },
  {
   "cell_type": "code",
   "execution_count": 4,
   "metadata": {},
   "outputs": [],
   "source": [
    "query_profiles = \"SELECT * FROM profiles where label IS NOT NULL\"\n",
    "df = pd.read_sql_query(query_profiles, engine_sqlite)\n",
    "df.set_index(\"index\", inplace=True)"
   ]
  },
  {
   "cell_type": "code",
   "execution_count": 5,
   "metadata": {},
   "outputs": [
    {
     "data": {
      "text/plain": [
       "label\n",
       "facebook           15\n",
       "google_new         20\n",
       "google_old        549\n",
       "miscellaneous     274\n",
       "self             1093\n",
       "dtype: int64"
      ]
     },
     "execution_count": 5,
     "metadata": {},
     "output_type": "execute_result"
    }
   ],
   "source": [
    "df.groupby('label').size()"
   ]
  },
  {
   "cell_type": "code",
   "execution_count": 6,
   "metadata": {},
   "outputs": [],
   "source": [
    "def class_to_no(label):\n",
    "    if label == 'facebook':\n",
    "        return 0\n",
    "    elif label == 'google_new':\n",
    "        return 1\n",
    "    elif label == 'google_old':\n",
    "        return 2\n",
    "    elif label == 'miscellaneous':\n",
    "        return 3\n",
    "    elif label == 'self':\n",
    "        return 4\n",
    "    "
   ]
  },
  {
   "cell_type": "code",
   "execution_count": 7,
   "metadata": {},
   "outputs": [],
   "source": [
    "df['label_num'] = df['label'].apply(class_to_no)"
   ]
  },
  {
   "cell_type": "code",
   "execution_count": 8,
   "metadata": {},
   "outputs": [],
   "source": [
    "import matplotlib.pyplot as plt\n",
    "import matplotlib.image as mpimg\n",
    "import cv2\n",
    "import urllib\n",
    "import urllib.request as ur\n",
    "from PIL import Image \n",
    "import requests\n",
    "from io import BytesIO\n",
    "import random"
   ]
  },
  {
   "cell_type": "code",
   "execution_count": 9,
   "metadata": {},
   "outputs": [],
   "source": [
    "def convert_picture(url): \n",
    "        response = requests.get(url)\n",
    "        img = Image.open(BytesIO(response.content))\n",
    "        img = img.resize((100,100))\n",
    "        img= img.convert('L')\n",
    "        return np.array(img)"
   ]
  },
  {
   "cell_type": "code",
   "execution_count": 10,
   "metadata": {},
   "outputs": [
    {
     "data": {
      "text/plain": [
       "{0, 1, 2, 3, 4}"
      ]
     },
     "execution_count": 10,
     "metadata": {},
     "output_type": "execute_result"
    }
   ],
   "source": [
    "label_num = np.array(df['label_num'])\n",
    "set(label_num)"
   ]
  },
  {
   "cell_type": "code",
   "execution_count": 11,
   "metadata": {},
   "outputs": [
    {
     "name": "stderr",
     "output_type": "stream",
     "text": [
      "Using TensorFlow backend.\n"
     ]
    },
    {
     "name": "stdout",
     "output_type": "stream",
     "text": [
      "[[0. 0. 0. 0. 1.]\n",
      " [0. 0. 1. 0. 0.]\n",
      " [0. 0. 1. 0. 0.]\n",
      " ...\n",
      " [0. 0. 1. 0. 0.]\n",
      " [0. 0. 0. 0. 1.]\n",
      " [0. 0. 0. 1. 0.]]\n"
     ]
    }
   ],
   "source": [
    "from keras.utils import to_categorical\n",
    "label_num_ohe = to_categorical(label_num)\n",
    "print(label_num_ohe)"
   ]
  },
  {
   "cell_type": "code",
   "execution_count": 12,
   "metadata": {},
   "outputs": [],
   "source": [
    "images = []\n",
    "\n",
    "for img_url in np.array(df['profile_picture_url']):\n",
    "    image = convert_picture(img_url)\n",
    "    images.append(image)"
   ]
  },
  {
   "cell_type": "code",
   "execution_count": 13,
   "metadata": {},
   "outputs": [
    {
     "data": {
      "image/png": "[encoded data removed]",
      "text/plain": [
       "<Figure size 432x288 with 1 Axes>"
      ]
     },
     "metadata": {
      "needs_background": "light"
     },
     "output_type": "display_data"
    }
   ],
   "source": [
    "plt.imshow(images[77], cmap='gray')\n",
    "plt.show()"
   ]
  },
  {
   "cell_type": "code",
   "execution_count": 14,
   "metadata": {},
   "outputs": [
    {
     "data": {
      "text/plain": [
       "(1951, 100, 100)"
      ]
     },
     "execution_count": 14,
     "metadata": {},
     "output_type": "execute_result"
    }
   ],
   "source": [
    "images = np.array(images)\n",
    "images.shape"
   ]
  },
  {
   "cell_type": "code",
   "execution_count": 15,
   "metadata": {},
   "outputs": [],
   "source": [
    "images = images.reshape(-1, 100, 100, 1)"
   ]
  },
  {
   "cell_type": "code",
   "execution_count": 16,
   "metadata": {},
   "outputs": [
    {
     "data": {
      "text/plain": [
       "(1951, 100, 100, 1)"
      ]
     },
     "execution_count": 16,
     "metadata": {},
     "output_type": "execute_result"
    }
   ],
   "source": [
    "images.shape"
   ]
  },
  {
   "cell_type": "code",
   "execution_count": 17,
   "metadata": {},
   "outputs": [
    {
     "data": {
      "text/plain": [
       "(1951, 5)"
      ]
     },
     "execution_count": 17,
     "metadata": {},
     "output_type": "execute_result"
    }
   ],
   "source": [
    "label_num_ohe.shape"
   ]
  },
  {
   "cell_type": "code",
   "execution_count": 18,
   "metadata": {},
   "outputs": [],
   "source": [
    "import tensorflow as tf\n",
    "import keras\n",
    "from keras.models import Sequential\n",
    "from keras.layers import Conv2D, MaxPool2D, Flatten, Dense, Dropout\n",
    "# print(\"GPU Available: \", tf.test.is_gpu_available())"
   ]
  },
  {
   "cell_type": "code",
   "execution_count": 19,
   "metadata": {},
   "outputs": [],
   "source": [
    "from sklearn.model_selection import train_test_split\n",
    "x_train, x_test, y_train, y_test = train_test_split(images, label_num_ohe, test_size=0.20, random_state =42)"
   ]
  },
  {
   "cell_type": "code",
   "execution_count": 20,
   "metadata": {},
   "outputs": [
    {
     "name": "stdout",
     "output_type": "stream",
     "text": [
      "(1560, 100, 100, 1)\n",
      "(1560, 5)\n",
      "(391, 100, 100, 1)\n",
      "(391, 5)\n"
     ]
    }
   ],
   "source": [
    "print(x_train.shape)\n",
    "print(y_train.shape)\n",
    "\n",
    "print(x_test.shape)\n",
    "print(y_test.shape)"
   ]
  },
  {
   "cell_type": "code",
   "execution_count": 21,
   "metadata": {},
   "outputs": [],
   "source": [
    "x_train = x_train/255.0\n",
    "x_test = x_test/255.0"
   ]
  },
  {
   "cell_type": "code",
   "execution_count": 22,
   "metadata": {},
   "outputs": [
    {
     "name": "stderr",
     "output_type": "stream",
     "text": [
      "WARNING: Logging before flag parsing goes to stderr.\n",
      "W1003 10:11:36.133229 139737121220416 deprecation_wrapper.py:119] From /home/gunnika/anaconda3/lib/python3.7/site-packages/keras/backend/tensorflow_backend.py:74: The name tf.get_default_graph is deprecated. Please use tf.compat.v1.get_default_graph instead.\n",
      "\n",
      "W1003 10:11:36.422283 139737121220416 deprecation_wrapper.py:119] From /home/gunnika/anaconda3/lib/python3.7/site-packages/keras/backend/tensorflow_backend.py:517: The name tf.placeholder is deprecated. Please use tf.compat.v1.placeholder instead.\n",
      "\n",
      "W1003 10:11:36.461241 139737121220416 deprecation_wrapper.py:119] From /home/gunnika/anaconda3/lib/python3.7/site-packages/keras/backend/tensorflow_backend.py:4138: The name tf.random_uniform is deprecated. Please use tf.random.uniform instead.\n",
      "\n",
      "W1003 10:11:36.525193 139737121220416 deprecation_wrapper.py:119] From /home/gunnika/anaconda3/lib/python3.7/site-packages/keras/backend/tensorflow_backend.py:3976: The name tf.nn.max_pool is deprecated. Please use tf.nn.max_pool2d instead.\n",
      "\n",
      "W1003 10:11:36.611793 139737121220416 deprecation_wrapper.py:119] From /home/gunnika/anaconda3/lib/python3.7/site-packages/keras/optimizers.py:790: The name tf.train.Optimizer is deprecated. Please use tf.compat.v1.train.Optimizer instead.\n",
      "\n",
      "W1003 10:11:36.639865 139737121220416 deprecation_wrapper.py:119] From /home/gunnika/anaconda3/lib/python3.7/site-packages/keras/backend/tensorflow_backend.py:3295: The name tf.log is deprecated. Please use tf.math.log instead.\n",
      "\n"
     ]
    }
   ],
   "source": [
    "model = Sequential()\n",
    "\n",
    "model.add(Conv2D(64, (3,3), input_shape=x_train.shape[1:], activation='relu'))\n",
    "model.add(MaxPool2D(pool_size=(2,2)))\n",
    "\n",
    "model.add(Conv2D(32, (3,3), activation='relu'))\n",
    "model.add(MaxPool2D(pool_size=(2,2)))\n",
    "\n",
    "model.add(Conv2D(16, (3,3), activation='relu'))\n",
    "model.add(MaxPool2D(pool_size=(2,2)))\n",
    "\n",
    "model.add(Flatten())\n",
    "\n",
    "model.add(Dense(8, activation='relu'))\n",
    "#model.add(Dropout(0.3))\n",
    "model.add(Dense(5, activation='softmax'))\n",
    "\n",
    "model.compile(loss='categorical_crossentropy', optimizer='adam', metrics=['accuracy'])"
   ]
  },
  {
   "cell_type": "code",
   "execution_count": 23,
   "metadata": {},
   "outputs": [
    {
     "name": "stdout",
     "output_type": "stream",
     "text": [
      "_________________________________________________________________\n",
      "Layer (type)                 Output Shape              Param #   \n",
      "=================================================================\n",
      "conv2d_1 (Conv2D)            (None, 98, 98, 64)        640       \n",
      "_________________________________________________________________\n",
      "max_pooling2d_1 (MaxPooling2 (None, 49, 49, 64)        0         \n",
      "_________________________________________________________________\n",
      "conv2d_2 (Conv2D)            (None, 47, 47, 32)        18464     \n",
      "_________________________________________________________________\n",
      "max_pooling2d_2 (MaxPooling2 (None, 23, 23, 32)        0         \n",
      "_________________________________________________________________\n",
      "conv2d_3 (Conv2D)            (None, 21, 21, 16)        4624      \n",
      "_________________________________________________________________\n",
      "max_pooling2d_3 (MaxPooling2 (None, 10, 10, 16)        0         \n",
      "_________________________________________________________________\n",
      "flatten_1 (Flatten)          (None, 1600)              0         \n",
      "_________________________________________________________________\n",
      "dense_1 (Dense)              (None, 8)                 12808     \n",
      "_________________________________________________________________\n",
      "dense_2 (Dense)              (None, 5)                 45        \n",
      "=================================================================\n",
      "Total params: 36,581\n",
      "Trainable params: 36,581\n",
      "Non-trainable params: 0\n",
      "_________________________________________________________________\n"
     ]
    }
   ],
   "source": [
    "model.summary()"
   ]
  },
  {
   "cell_type": "code",
   "execution_count": 24,
   "metadata": {},
   "outputs": [],
   "source": [
    "weights = np.array(df.groupby('label').size())\n",
    "w = weights.sum()/weights"
   ]
  },
  {
   "cell_type": "code",
   "execution_count": 25,
   "metadata": {},
   "outputs": [],
   "source": [
    "class_weight = {0: w[0],\n",
    "               1: w[1],\n",
    "               2: w[2],\n",
    "               3: w[3],\n",
    "               4: w[4]}"
   ]
  },
  {
   "cell_type": "code",
   "execution_count": 29,
   "metadata": {},
   "outputs": [
    {
     "name": "stdout",
     "output_type": "stream",
     "text": [
      "Train on 1248 samples, validate on 312 samples\n",
      "Epoch 1/80\n",
      "1248/1248 [==============================] - 2s 1ms/step - loss: 0.1419 - acc: 0.9968 - val_loss: 7.2145 - val_acc: 0.8173\n",
      "Epoch 2/80\n",
      "1248/1248 [==============================] - 1s 1ms/step - loss: 0.1441 - acc: 0.9968 - val_loss: 7.0799 - val_acc: 0.8045\n",
      "Epoch 3/80\n",
      "1248/1248 [==============================] - 1s 1ms/step - loss: 0.1261 - acc: 0.9984 - val_loss: 7.1673 - val_acc: 0.8013\n",
      "Epoch 4/80\n",
      "1248/1248 [==============================] - 1s 1ms/step - loss: 0.1660 - acc: 0.9960 - val_loss: 6.7993 - val_acc: 0.7949\n",
      "Epoch 5/80\n",
      "1248/1248 [==============================] - 1s 1ms/step - loss: 0.1538 - acc: 0.9952 - val_loss: 7.6007 - val_acc: 0.8013\n",
      "Epoch 6/80\n",
      "1248/1248 [==============================] - 1s 1ms/step - loss: 0.1308 - acc: 0.9968 - val_loss: 7.7801 - val_acc: 0.7917\n",
      "Epoch 7/80\n",
      "1248/1248 [==============================] - 2s 1ms/step - loss: 0.1208 - acc: 0.9976 - val_loss: 7.9993 - val_acc: 0.8013\n",
      "Epoch 8/80\n",
      "1248/1248 [==============================] - 1s 1ms/step - loss: 0.1174 - acc: 0.9976 - val_loss: 8.0615 - val_acc: 0.8013\n",
      "Epoch 9/80\n",
      "1248/1248 [==============================] - 1s 1ms/step - loss: 0.1153 - acc: 0.9976 - val_loss: 8.3098 - val_acc: 0.8077\n",
      "Epoch 10/80\n",
      "1248/1248 [==============================] - 2s 1ms/step - loss: 0.1128 - acc: 0.9976 - val_loss: 8.1553 - val_acc: 0.7981\n",
      "Epoch 11/80\n",
      "1248/1248 [==============================] - 1s 1ms/step - loss: 0.1107 - acc: 0.9976 - val_loss: 8.2628 - val_acc: 0.8045\n",
      "Epoch 12/80\n",
      "1248/1248 [==============================] - 2s 1ms/step - loss: 0.1089 - acc: 0.9976 - val_loss: 8.2604 - val_acc: 0.7981\n",
      "Epoch 13/80\n",
      "1248/1248 [==============================] - 1s 1ms/step - loss: 0.1070 - acc: 0.9976 - val_loss: 8.2968 - val_acc: 0.7917\n",
      "Epoch 14/80\n",
      "1248/1248 [==============================] - 2s 1ms/step - loss: 0.1051 - acc: 0.9976 - val_loss: 8.3068 - val_acc: 0.7917\n",
      "Epoch 15/80\n",
      "1248/1248 [==============================] - 1s 1ms/step - loss: 0.1034 - acc: 0.9976 - val_loss: 8.4067 - val_acc: 0.8013\n",
      "Epoch 16/80\n",
      "1248/1248 [==============================] - 1s 1ms/step - loss: 0.1017 - acc: 0.9976 - val_loss: 8.4398 - val_acc: 0.8045\n",
      "Epoch 17/80\n",
      "1248/1248 [==============================] - 1s 1ms/step - loss: 0.1006 - acc: 0.9976 - val_loss: 8.5141 - val_acc: 0.8109\n",
      "Epoch 18/80\n",
      "1248/1248 [==============================] - 1s 1ms/step - loss: 0.1169 - acc: 0.9976 - val_loss: 8.2798 - val_acc: 0.8173\n",
      "Epoch 19/80\n",
      "1248/1248 [==============================] - 2s 1ms/step - loss: 0.1556 - acc: 0.9912 - val_loss: 9.3518 - val_acc: 0.7853\n",
      "Epoch 20/80\n",
      "1248/1248 [==============================] - 2s 1ms/step - loss: 0.1549 - acc: 0.9920 - val_loss: 7.3048 - val_acc: 0.7724\n",
      "Epoch 21/80\n",
      "1248/1248 [==============================] - 2s 1ms/step - loss: 0.3815 - acc: 0.9647 - val_loss: 8.4826 - val_acc: 0.7436\n",
      "Epoch 22/80\n",
      "1248/1248 [==============================] - 2s 1ms/step - loss: 0.5637 - acc: 0.9559 - val_loss: 5.3192 - val_acc: 0.7853\n",
      "Epoch 23/80\n",
      "1248/1248 [==============================] - 2s 1ms/step - loss: 0.2108 - acc: 0.9856 - val_loss: 6.3353 - val_acc: 0.7885\n",
      "Epoch 24/80\n",
      "1248/1248 [==============================] - 1s 1ms/step - loss: 0.1485 - acc: 0.9936 - val_loss: 6.3774 - val_acc: 0.7788\n",
      "Epoch 25/80\n",
      "1248/1248 [==============================] - 1s 1ms/step - loss: 0.4862 - acc: 0.9615 - val_loss: 5.9962 - val_acc: 0.7564\n",
      "Epoch 26/80\n",
      "1248/1248 [==============================] - 1s 1ms/step - loss: 0.2927 - acc: 0.9704 - val_loss: 5.7863 - val_acc: 0.7147\n",
      "Epoch 27/80\n",
      "1248/1248 [==============================] - 1s 1ms/step - loss: 0.1427 - acc: 0.9920 - val_loss: 7.3012 - val_acc: 0.8109\n",
      "Epoch 28/80\n",
      "1248/1248 [==============================] - 2s 1ms/step - loss: 0.1244 - acc: 0.9944 - val_loss: 7.0658 - val_acc: 0.7981\n",
      "Epoch 29/80\n",
      "1248/1248 [==============================] - 2s 1ms/step - loss: 0.0715 - acc: 0.9952 - val_loss: 7.6622 - val_acc: 0.8013\n",
      "Epoch 30/80\n",
      "1248/1248 [==============================] - 1s 1ms/step - loss: 0.0415 - acc: 0.9976 - val_loss: 7.6409 - val_acc: 0.8045\n",
      "Epoch 31/80\n",
      "1248/1248 [==============================] - 2s 1ms/step - loss: 0.0357 - acc: 0.9984 - val_loss: 8.0898 - val_acc: 0.8141\n",
      "Epoch 32/80\n",
      "1248/1248 [==============================] - 1s 1ms/step - loss: 0.0338 - acc: 0.9984 - val_loss: 8.0024 - val_acc: 0.8077\n",
      "Epoch 33/80\n",
      "1248/1248 [==============================] - 1s 1ms/step - loss: 0.0317 - acc: 0.9984 - val_loss: 7.9812 - val_acc: 0.8109\n",
      "Epoch 34/80\n",
      "1248/1248 [==============================] - 2s 1ms/step - loss: 0.0307 - acc: 0.9984 - val_loss: 8.0218 - val_acc: 0.8173\n",
      "Epoch 35/80\n",
      "1248/1248 [==============================] - 2s 1ms/step - loss: 0.0300 - acc: 0.9984 - val_loss: 8.0699 - val_acc: 0.8173\n",
      "Epoch 36/80\n",
      "1248/1248 [==============================] - 1s 1ms/step - loss: 0.0294 - acc: 0.9984 - val_loss: 8.0835 - val_acc: 0.8141\n",
      "Epoch 37/80\n",
      "1248/1248 [==============================] - 1s 1ms/step - loss: 0.0289 - acc: 0.9984 - val_loss: 8.1952 - val_acc: 0.8173\n",
      "Epoch 38/80\n",
      "1248/1248 [==============================] - 1s 1ms/step - loss: 0.0283 - acc: 0.9984 - val_loss: 8.2394 - val_acc: 0.8109\n",
      "Epoch 39/80\n",
      "1248/1248 [==============================] - 1s 1ms/step - loss: 0.0279 - acc: 0.9984 - val_loss: 8.3361 - val_acc: 0.8109\n",
      "Epoch 40/80\n",
      "1248/1248 [==============================] - 1s 1ms/step - loss: 0.0274 - acc: 0.9984 - val_loss: 8.3940 - val_acc: 0.8077\n",
      "Epoch 41/80\n",
      "1248/1248 [==============================] - 2s 1ms/step - loss: 0.0269 - acc: 0.9984 - val_loss: 8.4604 - val_acc: 0.8141\n",
      "Epoch 42/80\n",
      "1248/1248 [==============================] - 2s 1ms/step - loss: 0.0265 - acc: 0.9992 - val_loss: 8.5408 - val_acc: 0.8141\n",
      "Epoch 43/80\n",
      "1248/1248 [==============================] - 1s 1ms/step - loss: 0.0261 - acc: 0.9992 - val_loss: 8.5009 - val_acc: 0.8141\n",
      "Epoch 44/80\n",
      "1248/1248 [==============================] - 1s 1ms/step - loss: 0.0257 - acc: 0.9992 - val_loss: 8.5723 - val_acc: 0.8141\n",
      "Epoch 45/80\n",
      "1248/1248 [==============================] - 1s 1ms/step - loss: 0.0254 - acc: 0.9992 - val_loss: 8.6733 - val_acc: 0.8141\n",
      "Epoch 46/80\n",
      "1248/1248 [==============================] - 2s 1ms/step - loss: 0.0253 - acc: 0.9992 - val_loss: 8.7484 - val_acc: 0.8141\n",
      "Epoch 47/80\n",
      "1248/1248 [==============================] - 1s 1ms/step - loss: 0.0249 - acc: 0.9992 - val_loss: 8.7171 - val_acc: 0.8109\n",
      "Epoch 48/80\n",
      "1248/1248 [==============================] - 1s 1ms/step - loss: 0.0247 - acc: 0.9992 - val_loss: 8.7306 - val_acc: 0.8109\n",
      "Epoch 49/80\n",
      "1248/1248 [==============================] - 1s 1ms/step - loss: 0.0245 - acc: 0.9992 - val_loss: 8.7842 - val_acc: 0.8109\n",
      "Epoch 50/80\n",
      "1248/1248 [==============================] - 1s 1ms/step - loss: 0.0244 - acc: 0.9992 - val_loss: 8.8100 - val_acc: 0.8109\n",
      "Epoch 51/80\n",
      "1248/1248 [==============================] - 1s 1ms/step - loss: 0.0243 - acc: 0.9992 - val_loss: 8.8546 - val_acc: 0.8109\n",
      "Epoch 52/80\n",
      "1248/1248 [==============================] - 2s 1ms/step - loss: 0.0241 - acc: 0.9992 - val_loss: 8.8467 - val_acc: 0.8077\n",
      "Epoch 53/80\n",
      "1248/1248 [==============================] - 1s 1ms/step - loss: 0.0241 - acc: 0.9992 - val_loss: 8.9279 - val_acc: 0.8109\n",
      "Epoch 54/80\n",
      "1248/1248 [==============================] - 1s 1ms/step - loss: 0.0240 - acc: 0.9992 - val_loss: 8.9520 - val_acc: 0.8109\n",
      "Epoch 55/80\n",
      "1248/1248 [==============================] - 1s 1ms/step - loss: 0.0239 - acc: 0.9992 - val_loss: 8.9622 - val_acc: 0.8109\n",
      "Epoch 56/80\n",
      "1248/1248 [==============================] - 2s 1ms/step - loss: 0.0239 - acc: 0.9992 - val_loss: 9.0133 - val_acc: 0.8141\n",
      "Epoch 57/80\n",
      "1248/1248 [==============================] - 1s 1ms/step - loss: 0.0238 - acc: 0.9992 - val_loss: 9.0501 - val_acc: 0.8141\n",
      "Epoch 58/80\n",
      "1248/1248 [==============================] - 1s 1ms/step - loss: 0.0238 - acc: 0.9992 - val_loss: 9.0617 - val_acc: 0.8109\n",
      "Epoch 59/80\n",
      "1248/1248 [==============================] - 1s 1ms/step - loss: 0.0237 - acc: 0.9992 - val_loss: 9.0659 - val_acc: 0.8013\n",
      "Epoch 60/80\n",
      "1248/1248 [==============================] - 1s 1ms/step - loss: 0.0237 - acc: 0.9992 - val_loss: 9.1075 - val_acc: 0.8109\n",
      "Epoch 61/80\n",
      "1248/1248 [==============================] - 1s 1ms/step - loss: 0.0236 - acc: 0.9992 - val_loss: 9.1189 - val_acc: 0.8077\n",
      "Epoch 62/80\n",
      "1248/1248 [==============================] - 1s 1ms/step - loss: 0.0236 - acc: 0.9992 - val_loss: 9.1543 - val_acc: 0.8077\n",
      "Epoch 63/80\n",
      "1248/1248 [==============================] - 1s 1ms/step - loss: 0.0236 - acc: 0.9992 - val_loss: 9.2029 - val_acc: 0.8109\n",
      "Epoch 64/80\n",
      "1248/1248 [==============================] - 1s 1ms/step - loss: 0.0235 - acc: 0.9992 - val_loss: 9.1865 - val_acc: 0.8077\n",
      "Epoch 65/80\n",
      "1248/1248 [==============================] - 1s 1ms/step - loss: 0.0235 - acc: 0.9992 - val_loss: 9.1738 - val_acc: 0.8045\n",
      "Epoch 66/80\n",
      "1248/1248 [==============================] - 2s 1ms/step - loss: 0.0235 - acc: 0.9992 - val_loss: 9.1866 - val_acc: 0.8045\n",
      "Epoch 67/80\n",
      "1248/1248 [==============================] - 1s 1ms/step - loss: 0.0235 - acc: 0.9992 - val_loss: 9.2255 - val_acc: 0.8077\n",
      "Epoch 68/80\n",
      "1248/1248 [==============================] - 2s 1ms/step - loss: 0.0234 - acc: 0.9992 - val_loss: 9.2531 - val_acc: 0.8077\n",
      "Epoch 69/80\n",
      "1248/1248 [==============================] - 1s 1ms/step - loss: 0.0234 - acc: 0.9992 - val_loss: 9.2411 - val_acc: 0.8045\n",
      "Epoch 70/80\n",
      "1248/1248 [==============================] - 1s 1ms/step - loss: 0.0234 - acc: 0.9992 - val_loss: 9.2627 - val_acc: 0.8045\n",
      "Epoch 71/80\n",
      "1248/1248 [==============================] - 2s 1ms/step - loss: 0.0234 - acc: 0.9992 - val_loss: 9.2980 - val_acc: 0.8077\n",
      "Epoch 72/80\n",
      "1248/1248 [==============================] - 2s 1ms/step - loss: 0.0234 - acc: 0.9992 - val_loss: 9.3143 - val_acc: 0.8077\n",
      "Epoch 73/80\n",
      "1248/1248 [==============================] - 2s 1ms/step - loss: 0.0234 - acc: 0.9992 - val_loss: 9.3278 - val_acc: 0.8077\n",
      "Epoch 74/80\n",
      "1248/1248 [==============================] - 1s 1ms/step - loss: 0.0233 - acc: 0.9992 - val_loss: 9.3195 - val_acc: 0.8045\n",
      "Epoch 75/80\n",
      "1248/1248 [==============================] - 2s 1ms/step - loss: 0.0233 - acc: 0.9992 - val_loss: 9.3301 - val_acc: 0.8045\n",
      "Epoch 76/80\n",
      "1248/1248 [==============================] - 2s 1ms/step - loss: 0.0233 - acc: 0.9992 - val_loss: 9.3484 - val_acc: 0.8045\n",
      "Epoch 77/80\n",
      "1248/1248 [==============================] - 2s 1ms/step - loss: 0.0233 - acc: 0.9992 - val_loss: 9.3963 - val_acc: 0.8077\n",
      "Epoch 78/80\n",
      "1248/1248 [==============================] - 1s 1ms/step - loss: 0.0233 - acc: 0.9992 - val_loss: 9.4108 - val_acc: 0.8077\n",
      "Epoch 79/80\n",
      "1248/1248 [==============================] - 1s 1ms/step - loss: 0.0233 - acc: 0.9992 - val_loss: 9.4135 - val_acc: 0.8077\n",
      "Epoch 80/80\n",
      "1248/1248 [==============================] - 2s 1ms/step - loss: 0.0233 - acc: 0.9992 - val_loss: 9.4112 - val_acc: 0.8077\n"
     ]
    },
    {
     "data": {
      "text/plain": [
       "<keras.callbacks.History at 0x7f1698fc9358>"
      ]
     },
     "execution_count": 29,
     "metadata": {},
     "output_type": "execute_result"
    }
   ],
   "source": [
    "model.fit(x_train,y_train, epochs= 80, validation_split= 0.20, batch_size=20, class_weight = class_weight)"
   ]
  },
  {
   "cell_type": "code",
   "execution_count": 30,
   "metadata": {},
   "outputs": [
    {
     "name": "stdout",
     "output_type": "stream",
     "text": [
      "391/391 [==============================] - 0s 882us/step\n"
     ]
    },
    {
     "data": {
      "text/plain": [
       "[1.8770249170415543, 0.7928388747565277]"
      ]
     },
     "execution_count": 30,
     "metadata": {},
     "output_type": "execute_result"
    }
   ],
   "source": [
    "model.evaluate(x_test, y_test)"
   ]
  },
  {
   "cell_type": "code",
   "execution_count": 31,
   "metadata": {},
   "outputs": [
    {
     "data": {
      "text/plain": [
       "['loss', 'acc']"
      ]
     },
     "execution_count": 31,
     "metadata": {},
     "output_type": "execute_result"
    }
   ],
   "source": [
    "model.metrics_names"
   ]
  },
  {
   "cell_type": "code",
   "execution_count": 32,
   "metadata": {},
   "outputs": [],
   "source": [
    "def test_image(url):\n",
    "    categories = ['facebook', 'google_old', 'google_new', 'miscellaneous', 'self' ]\n",
    "    response = requests.get(url)\n",
    "    img = Image.open(BytesIO(response.content))\n",
    "    img = img.resize((100,100))\n",
    "    img= img.convert('L')\n",
    "    img = np.array(img)\n",
    "    img = img.reshape(-1, 100, 100, 1)\n",
    "    predictions= model.predict(img)\n",
    "    return categories[predictions.argmax()]"
   ]
  },
  {
   "cell_type": "code",
   "execution_count": 42,
   "metadata": {},
   "outputs": [],
   "source": [
    "#self_image = 'https://scontent.fdel21-1.fna.fbcdn.net/v/t1.0-9/19145949_1901818590031524_5854858957661418728_n.jpg?_nc_cat=102&_nc_oc=AQmgLFYJ3IRbfvgww3t4vUDTc_k4K1brtI1ZTg8g1_0ZfuO1RLFhTnwqBp8JNp2dHvs&_nc_ht=scontent.fdel21-1.fna&oh=a28d00cff970b47fec915ca01bd1116e&oe=5DA6326A'\n",
    "#test_image(self_image)"
   ]
  },
  {
   "cell_type": "code",
   "execution_count": 34,
   "metadata": {},
   "outputs": [
    {
     "name": "stderr",
     "output_type": "stream",
     "text": [
      "/home/gunnika/anaconda3/lib/python3.7/site-packages/PIL/Image.py:968: UserWarning: Palette images with Transparency   expressed in bytes should be converted to RGBA images\n",
      "  ' expressed in bytes should be converted ' +\n"
     ]
    },
    {
     "data": {
      "text/plain": [
       "'google_new'"
      ]
     },
     "execution_count": 34,
     "metadata": {},
     "output_type": "execute_result"
    }
   ],
   "source": [
    "google_new = 'https://secure.gravatar.com/avatar/bc6e493d17a9bc4ff13b664205a48609?d=https://storage.whmcs.community/monthly_2017_10/A.png.308193d82a68e42c7b4e71fa8a5272f4.png'\n",
    "test_image(google_new)"
   ]
  },
  {
   "cell_type": "code",
   "execution_count": 35,
   "metadata": {},
   "outputs": [
    {
     "data": {
      "text/plain": [
       "'google_old'"
      ]
     },
     "execution_count": 35,
     "metadata": {},
     "output_type": "execute_result"
    }
   ],
   "source": [
    "google_old = 'https://i.stack.imgur.com/34AD2.jpg'\n",
    "test_image(google_old)"
   ]
  },
  {
   "cell_type": "code",
   "execution_count": 43,
   "metadata": {},
   "outputs": [],
   "source": [
    "#facebook = 'https://www.colibrilife.com/wp-content/uploads/2018/01/no-avatar-female.png'\n",
    "#test_image(facebook)"
   ]
  },
  {
   "cell_type": "code",
   "execution_count": 37,
   "metadata": {},
   "outputs": [
    {
     "data": {
      "image/png": "[encoded data removed]",
      "text/plain": [
       "<Figure size 432x288 with 1 Axes>"
      ]
     },
     "metadata": {
      "needs_background": "light"
     },
     "output_type": "display_data"
    },
    {
     "name": "stdout",
     "output_type": "stream",
     "text": [
      "miscellaneous\n"
     ]
    }
   ],
   "source": [
    "misc = 'http://wisdomquotes.com/wp-content/uploads/inspirational-quotes-every-next-level-of-your-life-will-demand-a-different-you-wisdom-quotes-1.jpg'\n",
    "\n",
    "misc2 = 'https://cdn.lifehack.org/wp-content/uploads/2016/02/26042240/Lifehack_Quotes_251429d69c58da436ad9d6ee8bb751d2.jpg'\n",
    "img = convert_picture(misc2)\n",
    "plt.imshow(img, cmap='gray')\n",
    "plt.show()\n",
    "print(test_image(misc2))"
   ]
  },
  {
   "cell_type": "code",
   "execution_count": 1,
   "metadata": {},
   "outputs": [],
   "source": [
    "#self2 = 'https://scontent.fdel21-1.fna.fbcdn.net/v/t1.0-9/37919976_2172114239483735_2750643600642539520_n.jpg?_nc_cat=103&_nc_oc=AQlu-b2cQaYYXJ1cFH9Iei7Ocoqc6MG8Kx8BF8tXLKSVeVOndOttmpcjpLs-LOopyH0&_nc_ht=scontent.fdel21-1.fna&oh=7c2119453b6c5ab7e30a6b8c1a42d5d4&oe=5DD5347F'\n",
    "#test_image(self2)"
   ]
  },
  {
   "cell_type": "code",
   "execution_count": 39,
   "metadata": {},
   "outputs": [
    {
     "name": "stdout",
     "output_type": "stream",
     "text": [
      "              precision    recall  f1-score   support\n",
      "\n",
      "           0       1.00      1.00      1.00         1\n",
      "           1       1.00      1.00      1.00         5\n",
      "           2       1.00      0.96      0.98       106\n",
      "           3       0.34      0.27      0.30        63\n",
      "           4       0.79      0.86      0.82       216\n",
      "\n",
      "   micro avg       0.79      0.79      0.79       391\n",
      "   macro avg       0.83      0.82      0.82       391\n",
      "weighted avg       0.78      0.79      0.78       391\n",
      "\n"
     ]
    }
   ],
   "source": [
    "from sklearn.metrics import classification_report\n",
    "\n",
    "pred = model.predict(x_test)\n",
    "print(classification_report(np.argmax(pred, axis=1), np.argmax(y_test, axis=1)))"
   ]
  },
  {
   "cell_type": "code",
   "execution_count": 40,
   "metadata": {},
   "outputs": [],
   "source": [
    "from sklearn.metrics import confusion_matrix\n",
    "cm = confusion_matrix(np.argmax(pred, axis=1), np.argmax(y_test, axis=1))"
   ]
  },
  {
   "cell_type": "code",
   "execution_count": 41,
   "metadata": {},
   "outputs": [
    {
     "data": {
      "text/plain": [
       "array([[  1,   0,   0,   0,   0],\n",
       "       [  0,   5,   0,   0,   0],\n",
       "       [  0,   0, 102,   2,   2],\n",
       "       [  0,   0,   0,  17,  46],\n",
       "       [  0,   0,   0,  31, 185]])"
      ]
     },
     "execution_count": 41,
     "metadata": {},
     "output_type": "execute_result"
    }
   ],
   "source": [
    "cm"
   ]
  },
  {
   "cell_type": "code",
   "execution_count": null,
   "metadata": {},
   "outputs": [],
   "source": []
  }
 ],
 "metadata": {
  "kernelspec": {
   "display_name": "Python 3",
   "language": "python",
   "name": "python3"
  },
  "language_info": {
   "codemirror_mode": {
    "name": "ipython",
    "version": 3
   },
   "file_extension": ".py",
   "mimetype": "text/x-python",
   "name": "python",
   "nbconvert_exporter": "python",
   "pygments_lexer": "ipython3",
   "version": "3.7.3"
  }
 },
 "nbformat": 4,
 "nbformat_minor": 2
}
