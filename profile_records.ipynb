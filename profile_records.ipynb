{
 "cells": [
  {
   "cell_type": "code",
   "execution_count": 1,
   "metadata": {},
   "outputs": [],
   "source": [
    "import pandas as pd"
   ]
  },
  {
   "cell_type": "code",
   "execution_count": 2,
   "metadata": {},
   "outputs": [],
   "source": [
    "profile = pd.read_csv('./profile_pictures.csv')"
   ]
  },
  {
   "cell_type": "code",
   "execution_count": 3,
   "metadata": {},
   "outputs": [
    {
     "data": {
      "text/plain": [
       "0         https://img.sheroes.in/img/user_451402_2018082...\n",
       "1         https://img.sheroes.in/img/user_581311_2019052...\n",
       "2         https://img.sheroes.in/img/uploads/user_198256...\n",
       "3         https://img.sheroes.in/img/user_337710_2018051...\n",
       "4         https://img.sheroes.in/img/uploads/user_198239...\n",
       "5         https://img.sheroes.in/img/user_353576_2018072...\n",
       "6         https://img.sheroes.in/img/uploads/user_198240...\n",
       "7         https://img.sheroes.in/img/uploads/1488800120u...\n",
       "8         https://img.sheroes.in/img/uploads/user_198240...\n",
       "9         https://img.sheroes.in/img/uploads/user_198246...\n",
       "10        https://img.sheroes.in/img/uploads/1502809053u...\n",
       "11        https://img.sheroes.in/img/user_382920_2018081...\n",
       "12        https://img.sheroes.in/img/uploads/user_198250...\n",
       "13        https://img.sheroes.in/img/user_476618_2019041...\n",
       "14        https://img.sheroes.in/img/user_437359_2019042...\n",
       "15        https://img.sheroes.in/img/user_350275_2017080...\n",
       "16        https://img.sheroes.in/img/user_487225_2017082...\n",
       "17        https://img.sheroes.in/img/user_503612_2018021...\n",
       "18        https://img.sheroes.in/img/user_398543_2017101...\n",
       "19        https://img.sheroes.in/img/uploads/user_198235...\n",
       "20        https://img.sheroes.in/img/uploads/1484553040u...\n",
       "21        https://img.sheroes.in/img/uploads/1497876739u...\n",
       "22        https://img.sheroes.in/img/uploads/user_198251...\n",
       "23        https://img.sheroes.in/img/uploads/1491889496u...\n",
       "24        https://img.sheroes.in/img/uploads/1486968182u...\n",
       "25        https://img.sheroes.in/img/user_582797_2017112...\n",
       "26        https://img.sheroes.in/img/uploads/user_198241...\n",
       "27        https://img.sheroes.in/img/uploads/1491967341u...\n",
       "28        https://img.sheroes.in/img/uploads/user_198247...\n",
       "29        https://img.sheroes.in/img/uploads/1493203650u...\n",
       "                                ...                        \n",
       "914521    https://img.sheroes.in/img/user_7069279_201906...\n",
       "914522    https://img.sheroes.in/img/user_7110064_201906...\n",
       "914523    https://img.sheroes.in/img/user_7154286_201907...\n",
       "914524    https://img.sheroes.in/img/user_7154442_201907...\n",
       "914525    https://img.sheroes.in/img/user_7117738_201906...\n",
       "914526    https://img.sheroes.in/img/user_7148599_201907...\n",
       "914527    https://img.sheroes.in/img/user_7115239_201906...\n",
       "914528    https://img.sheroes.in/img/user_7125110_201906...\n",
       "914529    https://img.sheroes.in/img/user_7153202_201907...\n",
       "914530    https://img.sheroes.in/img/user_7150724_201907...\n",
       "914531    https://img.sheroes.in/img/user_7133599_201906...\n",
       "914532    https://img.sheroes.in/img/user_7109712_201906...\n",
       "914533    https://img.sheroes.in/img/user_7107149_201906...\n",
       "914534    https://img.sheroes.in/img/user_7134795_201906...\n",
       "914535    https://img.sheroes.in/img/user_7144177_201907...\n",
       "914536    https://img.sheroes.in/img/user_7135192_201906...\n",
       "914537    https://img.sheroes.in/img/user_7142414_201907...\n",
       "914538    https://img.sheroes.in/img/user_7111762_201906...\n",
       "914539    https://img.sheroes.in/img/user_7132335_201906...\n",
       "914540    https://img.sheroes.in/img/user_7139370_201907...\n",
       "914541    https://img.sheroes.in/img/user_7122320_201906...\n",
       "914542    https://img.sheroes.in/img/user_7152941_201907...\n",
       "914543    https://img.sheroes.in/img/user_7105899_201906...\n",
       "914544    https://img.sheroes.in/img/user_7108796_201906...\n",
       "914545    https://img.sheroes.in/img/user_7153144_201907...\n",
       "914546    https://img.sheroes.in/img/user_7130195_201906...\n",
       "914547    https://img.sheroes.in/img/user_7106027_201906...\n",
       "914548    https://img.sheroes.in/img/user_7106608_201906...\n",
       "914549    https://img.sheroes.in/img/user_7109614_201906...\n",
       "914550    https://img.sheroes.in/img/user_7120101_201906...\n",
       "Name: profile_picture_url, Length: 914551, dtype: object"
      ]
     },
     "execution_count": 3,
     "metadata": {},
     "output_type": "execute_result"
    }
   ],
   "source": [
    "profile['profile_picture_url']"
   ]
  },
  {
   "cell_type": "code",
   "execution_count": 4,
   "metadata": {},
   "outputs": [],
   "source": [
    "# import urllib.request\n",
    "# image = urllib.request.urlopen(profile['profile_picture_url'][1]).read()\n",
    "# image\n",
    "# profile['profile_picture_url'][1]"
   ]
  },
  {
   "cell_type": "code",
   "execution_count": 5,
   "metadata": {},
   "outputs": [
    {
     "name": "stdout",
     "output_type": "stream",
     "text": [
      "776888\n"
     ]
    },
    {
     "data": {
      "image/png": "[encoded data removed]",
      "text/plain": [
       "<PIL.PngImagePlugin.PngImageFile image mode=RGB size=512x512 at 0x7F5B740717B8>"
      ]
     },
     "execution_count": 5,
     "metadata": {},
     "output_type": "execute_result"
    }
   ],
   "source": [
    "from PIL import Image\n",
    "import requests\n",
    "from io import BytesIO\n",
    "import random\n",
    "a= random.randint(0,914550)\n",
    "response = requests.get(profile['profile_picture_url'][random.randint(0,914550)])\n",
    "img = Image.open(BytesIO(response.content))\n",
    "print(a)\n",
    "img"
   ]
  },
  {
   "cell_type": "markdown",
   "metadata": {},
   "source": []
  },
  {
   "cell_type": "code",
   "execution_count": 6,
   "metadata": {},
   "outputs": [],
   "source": [
    "from sqlalchemy import create_engine\n",
    "engine = create_engine('sqlite:///app/posts.db', echo=False)"
   ]
  },
  {
   "cell_type": "code",
   "execution_count": 7,
   "metadata": {},
   "outputs": [],
   "source": [
    "profile.to_sql('profiles', con=engine, if_exists='replace')"
   ]
  },
  {
   "cell_type": "code",
   "execution_count": null,
   "metadata": {
    "scrolled": true
   },
   "outputs": [],
   "source": []
  },
  {
   "cell_type": "code",
   "execution_count": null,
   "metadata": {},
   "outputs": [],
   "source": []
  }
 ],
 "metadata": {
  "kernelspec": {
   "display_name": "Python 3",
   "language": "python",
   "name": "python3"
  },
  "language_info": {
   "codemirror_mode": {
    "name": "ipython",
    "version": 3
   },
   "file_extension": ".py",
   "mimetype": "text/x-python",
   "name": "python",
   "nbconvert_exporter": "python",
   "pygments_lexer": "ipython3",
   "version": "3.7.3"
  }
 },
 "nbformat": 4,
 "nbformat_minor": 2
}
